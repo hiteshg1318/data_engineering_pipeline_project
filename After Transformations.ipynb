{
 "cells": [
  {
   "cell_type": "code",
   "execution_count": 0,
   "metadata": {
    "application/vnd.databricks.v1+cell": {
     "cellMetadata": {
      "byteLimit": 2048000,
      "rowLimit": 10000
     },
     "inputWidgets": {},
     "nuid": "36529e7c-3cbd-496e-9b8f-e051980f429c",
     "showTitle": false,
     "title": ""
    }
   },
   "outputs": [],
   "source": [
    "spark.conf.set(\"fs.azure.account.auth.type.frauddetectiondata.dfs.core.windows.net\", \"SAS\")\n",
    "spark.conf.set(\"fs.azure.sas.token.provider.type.frauddetectiondata.dfs.core.windows.net\", \"org.apache.hadoop.fs.azurebfs.sas.FixedSASTokenProvider\")\n",
    "spark.conf.set(\"fs.azure.sas.fixed.token.frauddetectiondata.dfs.core.windows.net\", \"sp=racwdl&st=2023-12-15T23:01:11Z&se=2024-02-06T07:01:11Z&spr=https&sv=2022-11-02&sr=c&sig=OyZujTJ7jlpaNymECjSXJ%2BqCILIpqSmz3Zysn4HjJTM%3D\")"
   ]
  },
  {
   "cell_type": "code",
   "execution_count": 0,
   "metadata": {
    "application/vnd.databricks.v1+cell": {
     "cellMetadata": {
      "byteLimit": 2048000,
      "rowLimit": 10000
     },
     "inputWidgets": {},
     "nuid": "0105456f-0344-47cf-a1b1-d4e771521f85",
     "showTitle": false,
     "title": ""
    }
   },
   "outputs": [
    {
     "output_type": "display_data",
     "data": {
      "text/html": [
       "<style scoped>\n",
       "  .table-result-container {\n",
       "    max-height: 300px;\n",
       "    overflow: auto;\n",
       "  }\n",
       "  table, th, td {\n",
       "    border: 1px solid black;\n",
       "    border-collapse: collapse;\n",
       "  }\n",
       "  th, td {\n",
       "    padding: 5px;\n",
       "  }\n",
       "  th {\n",
       "    text-align: left;\n",
       "  }\n",
       "</style><div class='table-result-container'><table class='table-result'><thead style='background-color: white'><tr><th>path</th><th>name</th><th>size</th><th>modificationTime</th></tr></thead><tbody><tr><td>abfss://transformed@frauddetectiondata.dfs.core.windows.net/final_data.csv/_committed_2907636837832767909</td><td>_committed_2907636837832767909</td><td>197</td><td>1702685658000</td></tr><tr><td>abfss://transformed@frauddetectiondata.dfs.core.windows.net/final_data.csv/_committed_99951080079569082</td><td>_committed_99951080079569082</td><td>208</td><td>1702681206000</td></tr><tr><td>abfss://transformed@frauddetectiondata.dfs.core.windows.net/final_data.csv/_started_2907636837832767909</td><td>_started_2907636837832767909</td><td>0</td><td>1702685654000</td></tr><tr><td>abfss://transformed@frauddetectiondata.dfs.core.windows.net/final_data.csv/part-00000-tid-2907636837832767909-51efab35-5fbf-4c1a-a7bb-17ffcb78f1e2-94-1-c000.csv</td><td>part-00000-tid-2907636837832767909-51efab35-5fbf-4c1a-a7bb-17ffcb78f1e2-94-1-c000.csv</td><td>62984953</td><td>1702685657000</td></tr></tbody></table></div>"
      ]
     },
     "metadata": {
      "application/vnd.databricks.v1+output": {
       "addedWidgets": {},
       "aggData": [],
       "aggError": "",
       "aggOverflow": false,
       "aggSchema": [],
       "aggSeriesLimitReached": false,
       "aggType": "",
       "arguments": {},
       "columnCustomDisplayInfos": {},
       "data": [
        [
         "abfss://transformed@frauddetectiondata.dfs.core.windows.net/final_data.csv/_committed_2907636837832767909",
         "_committed_2907636837832767909",
         197,
         1702685658000
        ],
        [
         "abfss://transformed@frauddetectiondata.dfs.core.windows.net/final_data.csv/_committed_99951080079569082",
         "_committed_99951080079569082",
         208,
         1702681206000
        ],
        [
         "abfss://transformed@frauddetectiondata.dfs.core.windows.net/final_data.csv/_started_2907636837832767909",
         "_started_2907636837832767909",
         0,
         1702685654000
        ],
        [
         "abfss://transformed@frauddetectiondata.dfs.core.windows.net/final_data.csv/part-00000-tid-2907636837832767909-51efab35-5fbf-4c1a-a7bb-17ffcb78f1e2-94-1-c000.csv",
         "part-00000-tid-2907636837832767909-51efab35-5fbf-4c1a-a7bb-17ffcb78f1e2-94-1-c000.csv",
         62984953,
         1702685657000
        ]
       ],
       "datasetInfos": [],
       "dbfsResultPath": null,
       "isJsonSchema": true,
       "metadata": {},
       "overflow": false,
       "plotOptions": {
        "customPlotOptions": {},
        "displayType": "table",
        "pivotAggregation": null,
        "pivotColumns": null,
        "xColumns": null,
        "yColumns": null
       },
       "removedWidgets": [],
       "schema": [
        {
         "metadata": "{}",
         "name": "path",
         "type": "\"string\""
        },
        {
         "metadata": "{}",
         "name": "name",
         "type": "\"string\""
        },
        {
         "metadata": "{}",
         "name": "size",
         "type": "\"long\""
        },
        {
         "metadata": "{}",
         "name": "modificationTime",
         "type": "\"long\""
        }
       ],
       "type": "table"
      }
     },
     "output_type": "display_data"
    }
   ],
   "source": [
    "display(dbutils.fs.ls(\"abfss://transformed@frauddetectiondata.dfs.core.windows.net/final_data.csv\"))"
   ]
  },
  {
   "cell_type": "code",
   "execution_count": 0,
   "metadata": {
    "application/vnd.databricks.v1+cell": {
     "cellMetadata": {
      "byteLimit": 2048000,
      "rowLimit": 10000
     },
     "inputWidgets": {},
     "nuid": "9704f17f-af43-4a7b-8d2e-dc9252cd51a6",
     "showTitle": false,
     "title": ""
    }
   },
   "outputs": [],
   "source": [
    "df_training_final = spark.read.csv(path=\"abfss://transformed@frauddetectiondata.dfs.core.windows.net/final_data.csv/part-00000-tid-2907636837832767909-51efab35-5fbf-4c1a-a7bb-17ffcb78f1e2-94-1-c000.csv\",header=True, inferSchema=True)"
   ]
  },
  {
   "cell_type": "code",
   "execution_count": 0,
   "metadata": {
    "application/vnd.databricks.v1+cell": {
     "cellMetadata": {
      "byteLimit": 2048000,
      "rowLimit": 10000
     },
     "inputWidgets": {},
     "nuid": "08d4a9f3-86e3-49f1-b86f-be861cc03e06",
     "showTitle": false,
     "title": ""
    }
   },
   "outputs": [],
   "source": [
    "from pyspark.sql import SparkSession\n",
    "from pyspark.ml.feature import VectorAssembler, StandardScaler\n",
    "from pyspark.ml import Pipeline\n",
    "spark = SparkSession.builder.appName(\"Model_building\").getOrCreate()\n",
    "from pyspark.ml.classification import GBTClassifier\n",
    "from pyspark.ml.evaluation import MulticlassClassificationEvaluator"
   ]
  },
  {
   "cell_type": "code",
   "execution_count": 0,
   "metadata": {
    "application/vnd.databricks.v1+cell": {
     "cellMetadata": {
      "byteLimit": 2048000,
      "rowLimit": 10000
     },
     "inputWidgets": {},
     "nuid": "43072547-86fa-4b5b-94f3-71364b0674bd",
     "showTitle": false,
     "title": ""
    }
   },
   "outputs": [
    {
     "output_type": "stream",
     "name": "stdout",
     "output_type": "stream",
     "text": [
      "root\n |-- BeneID: string (nullable = true)\n |-- Provider: string (nullable = true)\n |-- InscClaimAmtReimbursed: integer (nullable = true)\n |-- DeductibleAmtPaid: integer (nullable = true)\n |-- Admitted: integer (nullable = true)\n |-- ClaimStartDt: date (nullable = true)\n |-- ClaimEndDt: date (nullable = true)\n |-- Gender: integer (nullable = true)\n |-- Race: integer (nullable = true)\n |-- RenalDiseaseIndicator: integer (nullable = true)\n |-- State: integer (nullable = true)\n |-- NoOfMonths_PartACov: integer (nullable = true)\n |-- NoOfMonths_PartBCov: integer (nullable = true)\n |-- ChronicCond_Alzheimer: integer (nullable = true)\n |-- ChronicCond_Heartfailure: integer (nullable = true)\n |-- ChronicCond_KidneyDisease: integer (nullable = true)\n |-- ChronicCond_Cancer: integer (nullable = true)\n |-- ChronicCond_ObstrPulmonary: integer (nullable = true)\n |-- ChronicCond_Depression: integer (nullable = true)\n |-- ChronicCond_Diabetes: integer (nullable = true)\n |-- ChronicCond_IschemicHeart: integer (nullable = true)\n |-- ChronicCond_Osteoporasis: integer (nullable = true)\n |-- ChronicCond_rheumatoidarthritis: integer (nullable = true)\n |-- ChronicCond_stroke: integer (nullable = true)\n |-- IPAnnualReimbursementAmt: integer (nullable = true)\n |-- IPAnnualDeductibleAmt: integer (nullable = true)\n |-- OPAnnualReimbursementAmt: integer (nullable = true)\n |-- OPAnnualDeductibleAmt: integer (nullable = true)\n |-- PotentialFraud: integer (nullable = true)\n |-- DaystoSettleClaim: integer (nullable = true)\n |-- DaysHospitalized: integer (nullable = true)\n |-- NoOfProceduresDone: integer (nullable = true)\n |-- NoOfPhyciansAttended: integer (nullable = true)\n |-- NoOfDiagnosisDone: integer (nullable = true)\n\n"
     ]
    }
   ],
   "source": [
    "df_training_final.printSchema()"
   ]
  },
  {
   "cell_type": "code",
   "execution_count": 0,
   "metadata": {
    "application/vnd.databricks.v1+cell": {
     "cellMetadata": {
      "byteLimit": 2048000,
      "rowLimit": 10000
     },
     "inputWidgets": {},
     "nuid": "7e45f993-bfa5-4fce-9603-398fa7cc766d",
     "showTitle": false,
     "title": ""
    }
   },
   "outputs": [
    {
     "output_type": "stream",
     "name": "stdout",
     "output_type": "stream",
     "text": [
      "+-----------------+\n|DeductibleAmtPaid|\n+-----------------+\n|              876|\n|             1068|\n|               20|\n|               40|\n|              100|\n|               10|\n|               50|\n|               80|\n|               70|\n|               60|\n|               90|\n|              200|\n|              865|\n|               30|\n|                0|\n|              886|\n|              897|\n+-----------------+\n\n"
     ]
    }
   ],
   "source": [
    "df_training_final.select('DeductibleAmtPaid').distinct().show()"
   ]
  },
  {
   "cell_type": "code",
   "execution_count": 0,
   "metadata": {
    "application/vnd.databricks.v1+cell": {
     "cellMetadata": {
      "byteLimit": 2048000,
      "rowLimit": 10000
     },
     "inputWidgets": {},
     "nuid": "4702b9d6-e780-4b27-8ca1-c83c98fb9474",
     "showTitle": false,
     "title": ""
    }
   },
   "outputs": [],
   "source": [
    "finalColumns = ['InscClaimAmtReimbursed','DeductibleAmtPaid', 'Admitted', 'Gender', 'Race','RenalDiseaseIndicator', 'State', 'NoOfMonths_PartACov', 'NoOfMonths_PartBCov','ChronicCond_Alzheimer', 'ChronicCond_Heartfailure', 'ChronicCond_KidneyDisease', 'ChronicCond_Cancer', 'ChronicCond_ObstrPulmonary', 'ChronicCond_Depression',\n",
    "'ChronicCond_Diabetes', 'ChronicCond_IschemicHeart', 'ChronicCond_Osteoporasis', 'ChronicCond_rheumatoidarthritis', 'ChronicCond_stroke', 'IPAnnualReimbursementAmt', 'IPAnnualDeductibleAmt', 'OPAnnualReimbursementAmt', 'OPAnnualDeductibleAmt', 'PotentialFraud', 'DaystoSettleClaim', 'DaysHospitalized', 'NoOfProceduresDone','NoOfPhyciansAttended',\n",
    "'NoOfDiagnosisDone']\n",
    "\n",
    "df_training_final = df_training_final.select(*finalColumns)\n",
    "\n"
   ]
  },
  {
   "cell_type": "code",
   "execution_count": 0,
   "metadata": {
    "application/vnd.databricks.v1+cell": {
     "cellMetadata": {
      "byteLimit": 2048000,
      "rowLimit": 10000
     },
     "inputWidgets": {},
     "nuid": "e35c9d3b-6708-4412-a848-87af372f82db",
     "showTitle": false,
     "title": ""
    }
   },
   "outputs": [],
   "source": [
    "assembler = VectorAssembler(inputCols=[col for col in finalColumns if col != 'PotentialFraud'], outputCol=\"features\")\n",
    "scaler = StandardScaler(inputCol=\"features\", outputCol=\"scaledFeatures\")\n",
    "pipeline = Pipeline(stages=[assembler, scaler])\n",
    "df_transformed = pipeline.fit(df_training_final).transform(df_training_final)\n",
    "train_data, test_data = df_transformed.randomSplit([0.8, 0.2], seed=42)"
   ]
  },
  {
   "cell_type": "code",
   "execution_count": 0,
   "metadata": {
    "application/vnd.databricks.v1+cell": {
     "cellMetadata": {
      "byteLimit": 2048000,
      "rowLimit": 10000
     },
     "inputWidgets": {},
     "nuid": "c49a0ce3-c7aa-4aed-9179-f97961ff114f",
     "showTitle": false,
     "title": ""
    }
   },
   "outputs": [],
   "source": [
    "gbt = GBTClassifier(labelCol=\"PotentialFraud\", featuresCol=\"scaledFeatures\", maxIter=200,maxDepth=5)\n",
    "gbt_model = gbt.fit(train_data)"
   ]
  },
  {
   "cell_type": "code",
   "execution_count": 0,
   "metadata": {
    "application/vnd.databricks.v1+cell": {
     "cellMetadata": {
      "byteLimit": 2048000,
      "rowLimit": 10000
     },
     "inputWidgets": {},
     "nuid": "f54de490-ed82-49d0-b2e6-7a44c5854223",
     "showTitle": false,
     "title": ""
    }
   },
   "outputs": [],
   "source": [
    "predictions = gbt_model.transform(test_data)"
   ]
  },
  {
   "cell_type": "code",
   "execution_count": 0,
   "metadata": {
    "application/vnd.databricks.v1+cell": {
     "cellMetadata": {
      "byteLimit": 2048000,
      "rowLimit": 10000
     },
     "inputWidgets": {},
     "nuid": "34fedcc3-3c61-41bb-be40-7bdaa9ac8db0",
     "showTitle": false,
     "title": ""
    }
   },
   "outputs": [
    {
     "output_type": "stream",
     "name": "stdout",
     "output_type": "stream",
     "text": [
      "Accuracy: 0.6601236337573911\n"
     ]
    }
   ],
   "source": [
    "evaluator = MulticlassClassificationEvaluator(labelCol=\"PotentialFraud\", predictionCol=\"prediction\", metricName=\"accuracy\")\n",
    "accuracy = evaluator.evaluate(predictions)\n",
    "print(f\"Accuracy: {accuracy}\")"
   ]
  },
  {
   "cell_type": "code",
   "execution_count": 0,
   "metadata": {
    "application/vnd.databricks.v1+cell": {
     "cellMetadata": {},
     "inputWidgets": {},
     "nuid": "ab3ea1b6-560c-4401-b248-77b61aa99f22",
     "showTitle": false,
     "title": ""
    }
   },
   "outputs": [],
   "source": []
  }
 ],
 "metadata": {
  "application/vnd.databricks.v1+notebook": {
   "dashboards": [],
   "language": "python",
   "notebookMetadata": {
    "pythonIndentUnit": 4
   },
   "notebookName": "After Transformations",
   "widgets": {}
  }
 },
 "nbformat": 4,
 "nbformat_minor": 0
}
